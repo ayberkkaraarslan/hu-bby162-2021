{
  "nbformat": 4,
  "nbformat_minor": 0,
  "metadata": {
    "colab": {
      "name": "Untitled0.ipynb",
      "provenance": [],
      "mount_file_id": "1RRHT6P8wiAMFNPFVuMhmB5E0EjunZTe9",
      "authorship_tag": "ABX9TyNXmBMpWYybyeV5MqUVGEFu",
      "include_colab_link": true
    },
    "kernelspec": {
      "name": "python3",
      "display_name": "Python 3"
    },
    "language_info": {
      "name": "python"
    }
  },
  "cells": [
    {
      "cell_type": "markdown",
      "metadata": {
        "id": "view-in-github",
        "colab_type": "text"
      },
      "source": [
        "<a href=\"https://colab.research.google.com/github/ayberkkaraarslan/hu-bby162-2021/blob/main/Untitled0.ipynb\" target=\"_parent\"><img src=\"https://colab.research.google.com/assets/colab-badge.svg\" alt=\"Open In Colab\"/></a>"
      ]
    },
    {
      "cell_type": "code",
      "metadata": {
        "colab": {
          "base_uri": "https://localhost:8080/"
        },
        "id": "jaVjR2WCKSea",
        "outputId": "64978702-ba9c-4ad6-b0f9-a10d6c4017a9"
      },
      "source": [
        "#dosya okuma\n",
        "#Google Drive Bağlantısı\n",
        "'''\n",
        "from google.colab import drive\n",
        "drive.mount('/gdrive')\n",
        "'''\n",
        "\n",
        "dosya =\"/content/drive/MyDrive/Adress.txt\"\n",
        "\n",
        "f = open (dosya, \"r\") \n",
        "\n",
        "for line in f.readlines():\n",
        "    print(line)\n",
        "\n",
        "f.close()\n"
      ],
      "execution_count": 6,
      "outputs": [
        {
          "output_type": "stream",
          "text": [
            "Ad, Soyad: Mustafa Ayberk Karaarslan\n",
            "\n",
            "E-mail: Ayberk.karaarslan.ak@gmail.com\n"
          ],
          "name": "stdout"
        }
      ]
    },
    {
      "cell_type": "code",
      "metadata": {
        "colab": {
          "base_uri": "https://localhost:8080/"
        },
        "id": "G0hNxQrCNj4o",
        "outputId": "350067f1-052e-4c79-98d4-03bbc6f08524"
      },
      "source": [
        "#dosya yazma\n",
        "\n",
        "dosya = \"/content/drive/MyDrive/adres.txt\"\n",
        "\n",
        "f = open(dosya, \"r\")\n",
        "\n",
        "f = open( dosya, 'w')\n",
        "f.write (\"Mustafa Ayberk\\n\")\n",
        "f.write (\"Karaarslan\\n\")\n",
        "f.write (\"Ayberk.karaarslan.ak@gmail.com\")\n",
        "f.close()\n",
        "\n",
        "f = open(dosya, \"r\")\n",
        "for line in f.readlines():\n",
        "  print(line)\n",
        "\n",
        "f.close() "
      ],
      "execution_count": 7,
      "outputs": [
        {
          "output_type": "stream",
          "text": [
            "Mustafa Ayberk\n",
            "\n",
            "Karaarslan\n",
            "\n",
            "Ayberk.karaarslan.ak@gmail.com\n"
          ],
          "name": "stdout"
        }
      ]
    }
  ]
}