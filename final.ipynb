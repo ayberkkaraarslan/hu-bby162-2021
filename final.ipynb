{
  "nbformat": 4,
  "nbformat_minor": 0,
  "metadata": {
    "colab": {
      "name": "final.ipynb",
      "provenance": [],
      "collapsed_sections": [],
      "toc_visible": true,
      "mount_file_id": "1_iZ0By0q_QXW7Rz2LrHJy-ULZo3KSrIW",
      "authorship_tag": "ABX9TyOuQ8cF3JsrlANEoIM8kaPy",
      "include_colab_link": true
    },
    "kernelspec": {
      "name": "python3",
      "display_name": "Python 3"
    },
    "language_info": {
      "name": "python"
    }
  },
  "cells": [
    {
      "cell_type": "markdown",
      "metadata": {
        "id": "view-in-github",
        "colab_type": "text"
      },
      "source": [
        "<a href=\"https://colab.research.google.com/github/ayberkkaraarslan/hu-bby162-2021/blob/main/final.ipynb\" target=\"_parent\"><img src=\"https://colab.research.google.com/assets/colab-badge.svg\" alt=\"Open In Colab\"/></a>"
      ]
    },
    {
      "cell_type": "code",
      "metadata": {
        "id": "Q5GEIg5dg8CM",
        "colab": {
          "base_uri": "https://localhost:8080/"
        },
        "outputId": "c2df4408-be55-4dd0-b532-180a0f7f32a8"
      },
      "source": [
        "#@Kütüphane\n",
        "dosya = \"/content/drive/MyDrive/final.txt\"\n",
        "print(\"<Kütüphane Kataloglama Sistemi>\")\n",
        "\n",
        "def eserListe():\n",
        "  f = open(dosya, \"r\")\n",
        "  for line in f.readlines():\n",
        "    print(line)\n",
        "  f.close()\n",
        "\n",
        "def eserKaydet():\n",
        "  eserAdi = input(\"Eser Adını Girin: \")\n",
        "  yazari = input(\"Eserin Yazarını Girin: \")\n",
        "  yayınevi = input(\"Eserin Yayınevini Girin: \")\n",
        "  basımTarihi = input(\"Eserin Basım Tarihi Girin: \")\n",
        "  ISBN = input(\"Eserin ISBN Numarasını Girin: \")\n",
        "  f = open(dosya, 'a' )\n",
        "  f.write(eserAdi + \" , \" + yazari + \" , \" + yayınevi + \" , \" + basımTarihi + \" , \" + ISBN + '\\n')\n",
        "  print(\"Başarıyla Kaydedildi\") \n",
        "  f.close()\n",
        "\n",
        "\n",
        "  \n",
        "islemSecme = [\"listele\", \"ekle\", \"bitir\",\"sil\"]\n",
        "while islemSecme:\n",
        "  girilen_islem = input(\"Katalogdaki eser listesini görüntülemek için 'listele' yazınız. \\n\"\n",
        "      \"Yeni eser kaydı eklemek için 'ekle' yazınız. \\n\"\n",
        "      \"Sistemden çıkmak için 'bitir' yazınız. \\n\"\n",
        "      \"Yapmak istediğiniz işlem için ilgili kelimeyi yazınız: \")\n",
        "  \n",
        "  if girilen_islem == islemSecme[0]:\n",
        "    print(\"<Kütüphane Kataloglama Sistemi>\")\n",
        "    eserListe()\n",
        "  elif girilen_islem == islemSecme[1]:\n",
        "    print(\"Kataloğa yeni bir eser kaydedin.\")\n",
        "    eserKaydet()  \n",
        "  elif girilen_islem == islemSecme[2]:\n",
        "    break\n",
        "\n",
        "  elif girilen_islem == islemSecme[3]:\n",
        "     print(\"Kataloğa eser cıkr.\")\n",
        "     eserCikar()"
      ],
      "execution_count": null,
      "outputs": [
        {
          "output_type": "stream",
          "text": [
            "<Kütüphane Kataloglama Sistemi>\n",
            "Katalogdaki eser listesini görüntülemek için 'listele' yazınız. \n",
            "Yeni eser kaydı eklemek için 'ekle' yazınız. \n",
            "Sistemden çıkmak için 'bitir' yazınız. \n",
            "Yapmak istediğiniz işlem için ilgili kelimeyi yazınız: listele\n",
            "<Kütüphane Kataloglama Sistemi>\n",
            "Osmanlılar: Fütühat İmparatorluk Avrupa ile İlişkiler , Halil İnalcık , Timaş Yayınevi , 2016 , ISBN 9786051141886\n",
            "\n",
            "Beyaz Diş ,  Jack London , İletişim Yayıncılık , 2011 ,  ISBN:9789759181284\n",
            "\n",
            "Kelile ve Dimne , Beydeba , İz Yayıncılık , 2008 ,  ISBN:9799752691505\n",
            "\n",
            "Mavi ve Kara , Sabahattin Eyüboğlu ,  İş Bankası Kültür Yayınları , 1999 ,  ISBN 9789754581751\n",
            "\n"
          ],
          "name": "stdout"
        }
      ]
    }
  ]
}